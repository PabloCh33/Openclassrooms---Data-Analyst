{
 "cells": [
  {
   "cell_type": "markdown",
   "id": "74be1149",
   "metadata": {},
   "source": [
    "# P9 Produire une étude de marché avec Python\n",
    "## Partie 1 : Chargement et préparation des données"
   ]
  },
  {
   "cell_type": "markdown",
   "id": "543014f9",
   "metadata": {},
   "source": [
    "### importation des packages et chargement des données"
   ]
  },
  {
   "cell_type": "code",
   "execution_count": 1,
   "id": "cadd6b92",
   "metadata": {},
   "outputs": [],
   "source": [
    "import functions\n",
    "import matplotlib.pyplot as plt \n",
    "import matplotlib.dates as mdates\n",
    "import numpy as np\n",
    "import os\n",
    "import pandas as pd\n",
    "import seaborn as sns\n",
    "\n",
    "\n",
    "from matplotlib.gridspec import GridSpec\n",
    "\n",
    "from pylab import rcParams\n",
    "\n",
    "from scipy.cluster.hierarchy import dendrogram, linkage, fcluster\n",
    "from scipy.stats import skew\n",
    "from scipy.spatial.distance import cdist\n",
    "\n",
    "from sklearn import cluster\n",
    "from sklearn import decomposition\n",
    "from sklearn import preprocessing\n",
    "\n",
    "from mpl_toolkits.mplot3d import Axes3D\n",
    "\n"
   ]
  },
  {
   "cell_type": "code",
   "execution_count": 2,
   "id": "3e51f6fe",
   "metadata": {},
   "outputs": [],
   "source": [
    "# un dataframe avec la population des pays au cours du temps\n",
    "df_pop = pd.read_csv('Population_2000_2018.csv')\n",
    "\n",
    "# un dataframe avec la disponibilité alimentaire et d'autres indicateurs\n",
    "df_dispo = pd.read_csv('DisponibiliteAlimentaire_2017.csv')\n",
    "\n",
    "# un dataframe avec les pays et leurs Pib\n",
    "df_pib = pd.read_excel('pib.xlsx')\n",
    "\n",
    "# un dataframe avec le coût de la production\n",
    "df_coût_prod = pd.read_excel('prix_prod.xlsx')\n",
    "\n",
    "# un dataframe avec les pays et leur continent\n",
    "df_region = pd.read_excel('continent.xlsx')"
   ]
  },
  {
   "cell_type": "markdown",
   "id": "f82b4d63",
   "metadata": {},
   "source": [
    "## création d'un dataframe exploitable"
   ]
  },
  {
   "cell_type": "code",
   "execution_count": 3,
   "id": "5b28457b",
   "metadata": {},
   "outputs": [],
   "source": [
    "# isolement des données sur la volaille\n",
    "df_dispo = df_dispo[df_dispo['Produit']=='Viande de Volailles']"
   ]
  },
  {
   "cell_type": "code",
   "execution_count": 4,
   "id": "a5f1b272",
   "metadata": {},
   "outputs": [],
   "source": [
    "# liste des pays\n",
    "df_pays_region = df_pop['Zone']\n",
    "df_pays_region = df_pays_region.drop_duplicates()\n",
    "df_pays_region = df_pays_region.reset_index()"
   ]
  },
  {
   "cell_type": "code",
   "execution_count": null,
   "id": "e7fb5a36",
   "metadata": {},
   "outputs": [],
   "source": []
  },
  {
   "cell_type": "code",
   "execution_count": 5,
   "id": "7c1d293d",
   "metadata": {},
   "outputs": [
    {
     "name": "stderr",
     "output_type": "stream",
     "text": [
      "<ipython-input-5-93ba4d893420>:5: SettingWithCopyWarning: \n",
      "A value is trying to be set on a copy of a slice from a DataFrame\n",
      "\n",
      "See the caveats in the documentation: https://pandas.pydata.org/pandas-docs/stable/user_guide/indexing.html#returning-a-view-versus-a-copy\n",
      "  df_pays_region['Groth'][j] = m\n"
     ]
    }
   ],
   "source": [
    "# l'augmentation du nombre d'habitants par an\n",
    "df_pays_region = df_pays_region.assign(Groth=0)\n",
    "for i,j in zip(df_pays_region['Zone'],range(len(df_pays_region))):   \n",
    "    m, b = np.polyfit(df_pop[df_pop['Zone']==i]['Année'],df_pop[df_pop['Zone']==i]['Valeur'],1)\n",
    "    df_pays_region['Groth'][j] = m\n",
    "df_pays_region = df_pays_region[['Zone','Groth']]"
   ]
  },
  {
   "cell_type": "code",
   "execution_count": 6,
   "id": "6c3e22f2",
   "metadata": {},
   "outputs": [],
   "source": [
    "# remplacer le nom \"groth\"\n",
    "df_pays_region = df_pays_region.rename(columns={'Groth':\"Croissance (en millier d'individus)\"})"
   ]
  },
  {
   "cell_type": "code",
   "execution_count": 7,
   "id": "e2570f09",
   "metadata": {},
   "outputs": [],
   "source": [
    "# la production\n",
    "df_pays_region = df_pays_region.merge(df_dispo[df_dispo['Élément']=='Production'][\n",
    "    ['Zone','Valeur']],how='left',left_on=['Zone'],right_on=['Zone'])\n",
    "df_pays_region = df_pays_region.rename(columns={'Valeur':'Production(en millier de tonnes)'})"
   ]
  },
  {
   "cell_type": "code",
   "execution_count": 8,
   "id": "e2026c8d",
   "metadata": {},
   "outputs": [],
   "source": [
    "# la disponibilité intérieure\n",
    "df_pays_region = df_pays_region.merge(df_dispo[df_dispo['Élément']=='Disponibilité intérieure'][\n",
    "    ['Zone','Valeur']],how='left',left_on=['Zone'],right_on=['Zone'])\n",
    "df_pays_region = df_pays_region.rename(columns={'Valeur':'Dispo intérieure(en millier de tonnes)'})"
   ]
  },
  {
   "cell_type": "code",
   "execution_count": 9,
   "id": "97acffc7",
   "metadata": {},
   "outputs": [],
   "source": [
    "# la disponibilité alimentaire\n",
    "df_pays_region = df_pays_region.merge(df_dispo[df_dispo[\n",
    "    'Élément']=='Disponibilité alimentaire en quantité (kg/personne/an)'][\n",
    "        ['Zone','Valeur']],how='left',left_on=['Zone'],right_on=['Zone'])\n",
    "df_pays_region = df_pays_region.rename(columns={'Valeur':'Disponibilité alimentaire(en Kg/personne/an)'})"
   ]
  },
  {
   "cell_type": "code",
   "execution_count": 10,
   "id": "0407ec4a",
   "metadata": {},
   "outputs": [],
   "source": [
    "# les exportations\n",
    "df_pays_region = df_pays_region.merge(df_dispo[df_dispo['Élément']=='Exportations - Quantité'][\n",
    "    ['Zone','Valeur']],how='left',left_on=['Zone'],right_on=['Zone'])\n",
    "df_pays_region = df_pays_region.rename(columns={'Valeur':'Exportations (en milier de tonnes)'})"
   ]
  },
  {
   "cell_type": "code",
   "execution_count": 11,
   "id": "683b8288",
   "metadata": {},
   "outputs": [],
   "source": [
    "# les importations\n",
    "df_pays_region = df_pays_region.merge(df_dispo[df_dispo['Élément']=='Importations - Quantité'][\n",
    "    ['Zone','Valeur']],how='left',left_on=['Zone'],right_on=['Zone'])\n",
    "df_pays_region = df_pays_region.rename(columns={'Valeur':'Importations (en milier de tonnes)'})"
   ]
  },
  {
   "cell_type": "code",
   "execution_count": 12,
   "id": "0e29e824",
   "metadata": {},
   "outputs": [],
   "source": [
    "# la population\n",
    "df_pays_region = df_pays_region.merge(df_pop[df_pop['Année']==2017][\n",
    "    ['Zone','Valeur']],how='left',left_on=['Zone'],right_on=['Zone'])\n",
    "df_pays_region = df_pays_region.rename(columns={'Valeur':\"Population en 2017 (en milier d'individus)\"})"
   ]
  },
  {
   "cell_type": "code",
   "execution_count": 13,
   "id": "32188243",
   "metadata": {},
   "outputs": [],
   "source": [
    "# le pib par habitant\n",
    "df_pays_region = df_pays_region.merge(df_pib[['Zone','Valeur']],how='left',left_on=[\n",
    "    'Zone'],right_on=['Zone'])\n",
    "df_pays_region = df_pays_region.rename(columns={'Valeur':\"Pib par habitant\"})\n",
    "df_pays_region['Pib par habitant']=df_pays_region['Pib par habitant']/df_pays_region[\n",
    "    \"Population en 2017 (en milier d'individus)\"]"
   ]
  },
  {
   "cell_type": "code",
   "execution_count": 14,
   "id": "d6d03818",
   "metadata": {},
   "outputs": [],
   "source": [
    "# la region\n",
    "df_pays_region = df_pays_region.merge(df_region[['Zone','Continent']],how='left',left_on=[\n",
    "    'Zone'],right_on=['Zone'])\n",
    "df_pays_region = df_pays_region.rename(columns={'Continent':\"Région\"})"
   ]
  },
  {
   "cell_type": "code",
   "execution_count": 15,
   "id": "7e19174c",
   "metadata": {},
   "outputs": [],
   "source": [
    "# convertir le pays en index\n",
    "df_pays_region.set_index('Zone',inplace = True)"
   ]
  },
  {
   "cell_type": "markdown",
   "id": "5af00f1d",
   "metadata": {},
   "source": [
    "### traitement des valeurs manquantes"
   ]
  },
  {
   "cell_type": "code",
   "execution_count": 16,
   "id": "25690619",
   "metadata": {},
   "outputs": [
    {
     "data": {
      "text/plain": [
       "Croissance (en millier d'individus)               0\n",
       "Production(en millier de tonnes)                 70\n",
       "Dispo intérieure(en millier de tonnes)           68\n",
       "Disponibilité alimentaire(en Kg/personne/an)     66\n",
       "Exportations (en milier de tonnes)              103\n",
       "Importations (en milier de tonnes)               68\n",
       "Population en 2017 (en milier d'individus)        2\n",
       "Pib par habitant                                 29\n",
       "Région                                            1\n",
       "dtype: int64"
      ]
     },
     "execution_count": 16,
     "metadata": {},
     "output_type": "execute_result"
    }
   ],
   "source": [
    "# combien de valeurs manquantes sur chaque colonne ?\n",
    "df_pays_region.isna().sum()"
   ]
  },
  {
   "cell_type": "code",
   "execution_count": 17,
   "id": "7a715c24",
   "metadata": {},
   "outputs": [],
   "source": [
    "# suppression de Zone qui ne sont pas considérés comme des pays\n",
    "df_pays_region = df_pays_region[df_pays_region['Pib par habitant'].isnull()==False]\n",
    "df_pays_region = df_pays_region[df_pays_region['Dispo intérieure(en millier de tonnes)'].isnull()==False]"
   ]
  },
  {
   "cell_type": "code",
   "execution_count": 18,
   "id": "5d94c35e",
   "metadata": {},
   "outputs": [
    {
     "data": {
      "text/html": [
       "<div>\n",
       "<style scoped>\n",
       "    .dataframe tbody tr th:only-of-type {\n",
       "        vertical-align: middle;\n",
       "    }\n",
       "\n",
       "    .dataframe tbody tr th {\n",
       "        vertical-align: top;\n",
       "    }\n",
       "\n",
       "    .dataframe thead th {\n",
       "        text-align: right;\n",
       "    }\n",
       "</style>\n",
       "<table border=\"1\" class=\"dataframe\">\n",
       "  <thead>\n",
       "    <tr style=\"text-align: right;\">\n",
       "      <th></th>\n",
       "      <th>Croissance (en millier d'individus)</th>\n",
       "      <th>Production(en millier de tonnes)</th>\n",
       "      <th>Dispo intérieure(en millier de tonnes)</th>\n",
       "      <th>Disponibilité alimentaire(en Kg/personne/an)</th>\n",
       "      <th>Exportations (en milier de tonnes)</th>\n",
       "      <th>Importations (en milier de tonnes)</th>\n",
       "      <th>Population en 2017 (en milier d'individus)</th>\n",
       "      <th>Pib par habitant</th>\n",
       "      <th>Région</th>\n",
       "    </tr>\n",
       "    <tr>\n",
       "      <th>Zone</th>\n",
       "      <th></th>\n",
       "      <th></th>\n",
       "      <th></th>\n",
       "      <th></th>\n",
       "      <th></th>\n",
       "      <th></th>\n",
       "      <th></th>\n",
       "      <th></th>\n",
       "      <th></th>\n",
       "    </tr>\n",
       "  </thead>\n",
       "  <tbody>\n",
       "    <tr>\n",
       "      <th>Djibouti</th>\n",
       "      <td>13</td>\n",
       "      <td>NaN</td>\n",
       "      <td>3.0</td>\n",
       "      <td>2.68</td>\n",
       "      <td>NaN</td>\n",
       "      <td>3.0</td>\n",
       "      <td>944.099</td>\n",
       "      <td>2.930697</td>\n",
       "      <td>Afrique</td>\n",
       "    </tr>\n",
       "    <tr>\n",
       "      <th>Maldives</th>\n",
       "      <td>12</td>\n",
       "      <td>NaN</td>\n",
       "      <td>12.0</td>\n",
       "      <td>13.50</td>\n",
       "      <td>NaN</td>\n",
       "      <td>12.0</td>\n",
       "      <td>496.402</td>\n",
       "      <td>9.577354</td>\n",
       "      <td>Asie</td>\n",
       "    </tr>\n",
       "  </tbody>\n",
       "</table>\n",
       "</div>"
      ],
      "text/plain": [
       "          Croissance (en millier d'individus)  \\\n",
       "Zone                                            \n",
       "Djibouti                                   13   \n",
       "Maldives                                   12   \n",
       "\n",
       "          Production(en millier de tonnes)  \\\n",
       "Zone                                         \n",
       "Djibouti                               NaN   \n",
       "Maldives                               NaN   \n",
       "\n",
       "          Dispo intérieure(en millier de tonnes)  \\\n",
       "Zone                                               \n",
       "Djibouti                                     3.0   \n",
       "Maldives                                    12.0   \n",
       "\n",
       "          Disponibilité alimentaire(en Kg/personne/an)  \\\n",
       "Zone                                                     \n",
       "Djibouti                                          2.68   \n",
       "Maldives                                         13.50   \n",
       "\n",
       "          Exportations (en milier de tonnes)  \\\n",
       "Zone                                           \n",
       "Djibouti                                 NaN   \n",
       "Maldives                                 NaN   \n",
       "\n",
       "          Importations (en milier de tonnes)  \\\n",
       "Zone                                           \n",
       "Djibouti                                 3.0   \n",
       "Maldives                                12.0   \n",
       "\n",
       "          Population en 2017 (en milier d'individus)  Pib par habitant  \\\n",
       "Zone                                                                     \n",
       "Djibouti                                     944.099          2.930697   \n",
       "Maldives                                     496.402          9.577354   \n",
       "\n",
       "           Région  \n",
       "Zone               \n",
       "Djibouti  Afrique  \n",
       "Maldives     Asie  "
      ]
     },
     "execution_count": 18,
     "metadata": {},
     "output_type": "execute_result"
    }
   ],
   "source": [
    "# valeurs manquantes de production \n",
    "df_pays_region[df_pays_region['Production(en millier de tonnes)'].isnull()]\n",
    "# Djibouti et les Maldives sont de petits pays, ces pays n'ont pas de production de poulet"
   ]
  },
  {
   "cell_type": "code",
   "execution_count": null,
   "id": "0576db24",
   "metadata": {},
   "outputs": [],
   "source": [
    "df_pays_region[df_pays_region['Exportations (en milier de tonnes)'].isnull()][\n",
    "    'Production(en millier de tonnes)']+df_pays_region[df_pays_region[\n",
    "        'Exportations (en milier de tonnes)'].isnull()][\n",
    "            'Importations (en milier de tonnes)']-df_pays_region[df_pays_region[\n",
    "                'Exportations (en milier de tonnes)'].isnull()][\n",
    "                    'Dispo intérieure(en millier de tonnes)']"
   ]
  },
  {
   "cell_type": "code",
   "execution_count": 19,
   "id": "485bea80",
   "metadata": {},
   "outputs": [
    {
     "data": {
      "text/plain": [
       "Zone\n",
       "Afghanistan                         0.0\n",
       "Bahamas                             4.0\n",
       "Bangladesh                         -1.0\n",
       "Burkina Faso                        0.0\n",
       "Cabo Verde                          3.0\n",
       "Cambodge                            0.0\n",
       "Cuba                               -1.0\n",
       "Djibouti                            NaN\n",
       "Éthiopie                            1.0\n",
       "Gambie                             10.0\n",
       "Grenade                             0.0\n",
       "Guinée                              0.0\n",
       "Guinée-Bissau                       3.0\n",
       "Haïti                               0.0\n",
       "Kiribati                            0.0\n",
       "Madagascar                         -1.0\n",
       "Malawi                             32.0\n",
       "Maldives                            NaN\n",
       "Mali                               -3.0\n",
       "Mauritanie                          7.0\n",
       "Mongolie                            1.0\n",
       "Mozambique                          0.0\n",
       "Népal                               0.0\n",
       "Nouvelle-Calédonie                 -1.0\n",
       "République centrafricaine           0.0\n",
       "République-Unie de Tanzanie        -1.0\n",
       "Sainte-Lucie                        0.0\n",
       "Saint-Vincent-et-les Grenadines     1.0\n",
       "Sao Tomé-et-Principe                1.0\n",
       "Soudan                              0.0\n",
       "Tadjikistan                         0.0\n",
       "Timor-Leste                         7.0\n",
       "Turkménistan                        2.0\n",
       "Vanuatu                             2.0\n",
       "Zimbabwe                           -1.0\n",
       "dtype: float64"
      ]
     },
     "execution_count": 19,
     "metadata": {},
     "output_type": "execute_result"
    }
   ],
   "source": [
    "# valeurs manquantes en exportation\n",
    "# je fais le cacul suivant : production + importations - disponibilité\n",
    "# je m'attend à trouver soit 0, soit une petite valeur (lié aux pertes / variations de stock), \n",
    "# soit une grande valeur : les exportations\n",
    "df_pays_region[df_pays_region['Exportations (en milier de tonnes)'].isnull()][\n",
    "    'Production(en millier de tonnes)']+df_pays_region[df_pays_region[\n",
    "        'Exportations (en milier de tonnes)'].isnull()][\n",
    "            'Importations (en milier de tonnes)']-df_pays_region[df_pays_region[\n",
    "                'Exportations (en milier de tonnes)'].isnull()][\n",
    "                    'Dispo intérieure(en millier de tonnes)']"
   ]
  },
  {
   "cell_type": "code",
   "execution_count": 20,
   "id": "ab8d904c",
   "metadata": {},
   "outputs": [
    {
     "data": {
      "text/plain": [
       "Croissance (en millier d'individus)              0\n",
       "Production(en millier de tonnes)                 2\n",
       "Dispo intérieure(en millier de tonnes)           0\n",
       "Disponibilité alimentaire(en Kg/personne/an)     0\n",
       "Exportations (en milier de tonnes)              35\n",
       "Importations (en milier de tonnes)               0\n",
       "Population en 2017 (en milier d'individus)       0\n",
       "Pib par habitant                                 0\n",
       "Région                                           0\n",
       "dtype: int64"
      ]
     },
     "execution_count": 20,
     "metadata": {},
     "output_type": "execute_result"
    }
   ],
   "source": [
    "# combien de valeurs manquantes pour chaque colonne\n",
    "df_pays_region.isna().sum()"
   ]
  },
  {
   "cell_type": "code",
   "execution_count": 21,
   "id": "d4ef16af",
   "metadata": {},
   "outputs": [],
   "source": [
    "df_pays_region = df_pays_region.fillna(0.0)"
   ]
  },
  {
   "cell_type": "code",
   "execution_count": null,
   "id": "5d743956",
   "metadata": {},
   "outputs": [],
   "source": []
  },
  {
   "cell_type": "markdown",
   "id": "05140f35",
   "metadata": {},
   "source": [
    "### rajouter des données aux dataframe"
   ]
  },
  {
   "cell_type": "code",
   "execution_count": 22,
   "id": "919d66f9",
   "metadata": {},
   "outputs": [],
   "source": [
    "# remplacer import et export par la balance commerciale\n",
    "df_pays_region['Exportations (en milier de tonnes)'] = df_pays_region[\n",
    "    'Exportations (en milier de tonnes)']-df_pays_region['Importations (en milier de tonnes)']\n",
    "df_pays_region = df_pays_region[[\"Croissance (en millier d'individus)\",'Production(en millier de tonnes)','Dispo intérieure(en millier de tonnes)','Disponibilité alimentaire(en Kg/personne/an)','Importations (en milier de tonnes)',\"Population en 2017 (en milier d'individus)\",'Pib par habitant','Région']]\n",
    "df_pays_region = df_pays_region.rename(columns={'Importations (en milier de tonnes)':'Balance commeciale (en milier de tonnes)'})"
   ]
  },
  {
   "cell_type": "code",
   "execution_count": 23,
   "id": "c3046ce9",
   "metadata": {},
   "outputs": [],
   "source": [
    "# le % d'accroissement de la population\n",
    "df_pays_region[\"% de croissance\"] = df_pays_region[\"Croissance (en millier d'individus)\"]/df_pays_region[\"Population en 2017 (en milier d'individus)\"]*100"
   ]
  },
  {
   "cell_type": "code",
   "execution_count": 24,
   "id": "ffe5b4a3",
   "metadata": {},
   "outputs": [],
   "source": [
    "# la production par habitant\n",
    "df_pays_region[\"Production(en tonne par milier d'habitant)\"] = df_pays_region['Production(en millier de tonnes)']/df_pays_region[\n",
    "    \"Population en 2017 (en milier d'individus)\"]*1000"
   ]
  },
  {
   "cell_type": "code",
   "execution_count": 25,
   "id": "13e0bd00",
   "metadata": {},
   "outputs": [],
   "source": [
    "# la balance commerciale par habitant\n",
    "df_pays_region[\"Balance commerciales(en tonne par milier d'habitant)\"] = df_pays_region[\n",
    "    'Balance commeciale (en milier de tonnes)']/df_pays_region[\"Population en 2017 (en milier d'individus)\"]*1000"
   ]
  },
  {
   "cell_type": "markdown",
   "id": "a08bd424",
   "metadata": {},
   "source": [
    "### Transformer le continent en valeur numérique grâce à la méthode du one hot encoding"
   ]
  },
  {
   "cell_type": "code",
   "execution_count": 26,
   "id": "c8029839",
   "metadata": {},
   "outputs": [
    {
     "data": {
      "text/html": [
       "<div>\n",
       "<style scoped>\n",
       "    .dataframe tbody tr th:only-of-type {\n",
       "        vertical-align: middle;\n",
       "    }\n",
       "\n",
       "    .dataframe tbody tr th {\n",
       "        vertical-align: top;\n",
       "    }\n",
       "\n",
       "    .dataframe thead th {\n",
       "        text-align: right;\n",
       "    }\n",
       "</style>\n",
       "<table border=\"1\" class=\"dataframe\">\n",
       "  <thead>\n",
       "    <tr style=\"text-align: right;\">\n",
       "      <th></th>\n",
       "      <th>Afrique</th>\n",
       "      <th>AmNord</th>\n",
       "      <th>AmSud</th>\n",
       "      <th>Asie</th>\n",
       "      <th>Europe</th>\n",
       "      <th>Oceanie</th>\n",
       "    </tr>\n",
       "    <tr>\n",
       "      <th>Zone</th>\n",
       "      <th></th>\n",
       "      <th></th>\n",
       "      <th></th>\n",
       "      <th></th>\n",
       "      <th></th>\n",
       "      <th></th>\n",
       "    </tr>\n",
       "  </thead>\n",
       "  <tbody>\n",
       "    <tr>\n",
       "      <th>Afghanistan</th>\n",
       "      <td>0</td>\n",
       "      <td>0</td>\n",
       "      <td>0</td>\n",
       "      <td>1</td>\n",
       "      <td>0</td>\n",
       "      <td>0</td>\n",
       "    </tr>\n",
       "    <tr>\n",
       "      <th>Afrique du Sud</th>\n",
       "      <td>1</td>\n",
       "      <td>0</td>\n",
       "      <td>0</td>\n",
       "      <td>0</td>\n",
       "      <td>0</td>\n",
       "      <td>0</td>\n",
       "    </tr>\n",
       "    <tr>\n",
       "      <th>Albanie</th>\n",
       "      <td>0</td>\n",
       "      <td>0</td>\n",
       "      <td>0</td>\n",
       "      <td>0</td>\n",
       "      <td>1</td>\n",
       "      <td>0</td>\n",
       "    </tr>\n",
       "    <tr>\n",
       "      <th>Algérie</th>\n",
       "      <td>1</td>\n",
       "      <td>0</td>\n",
       "      <td>0</td>\n",
       "      <td>0</td>\n",
       "      <td>0</td>\n",
       "      <td>0</td>\n",
       "    </tr>\n",
       "    <tr>\n",
       "      <th>Allemagne</th>\n",
       "      <td>0</td>\n",
       "      <td>0</td>\n",
       "      <td>0</td>\n",
       "      <td>0</td>\n",
       "      <td>1</td>\n",
       "      <td>0</td>\n",
       "    </tr>\n",
       "    <tr>\n",
       "      <th>...</th>\n",
       "      <td>...</td>\n",
       "      <td>...</td>\n",
       "      <td>...</td>\n",
       "      <td>...</td>\n",
       "      <td>...</td>\n",
       "      <td>...</td>\n",
       "    </tr>\n",
       "    <tr>\n",
       "      <th>Venezuela (République bolivarienne du)</th>\n",
       "      <td>0</td>\n",
       "      <td>0</td>\n",
       "      <td>1</td>\n",
       "      <td>0</td>\n",
       "      <td>0</td>\n",
       "      <td>0</td>\n",
       "    </tr>\n",
       "    <tr>\n",
       "      <th>Viet Nam</th>\n",
       "      <td>0</td>\n",
       "      <td>0</td>\n",
       "      <td>0</td>\n",
       "      <td>1</td>\n",
       "      <td>0</td>\n",
       "      <td>0</td>\n",
       "    </tr>\n",
       "    <tr>\n",
       "      <th>Yémen</th>\n",
       "      <td>0</td>\n",
       "      <td>0</td>\n",
       "      <td>0</td>\n",
       "      <td>1</td>\n",
       "      <td>0</td>\n",
       "      <td>0</td>\n",
       "    </tr>\n",
       "    <tr>\n",
       "      <th>Zambie</th>\n",
       "      <td>1</td>\n",
       "      <td>0</td>\n",
       "      <td>0</td>\n",
       "      <td>0</td>\n",
       "      <td>0</td>\n",
       "      <td>0</td>\n",
       "    </tr>\n",
       "    <tr>\n",
       "      <th>Zimbabwe</th>\n",
       "      <td>1</td>\n",
       "      <td>0</td>\n",
       "      <td>0</td>\n",
       "      <td>0</td>\n",
       "      <td>0</td>\n",
       "      <td>0</td>\n",
       "    </tr>\n",
       "  </tbody>\n",
       "</table>\n",
       "<p>169 rows × 6 columns</p>\n",
       "</div>"
      ],
      "text/plain": [
       "                                        Afrique  AmNord  AmSud  Asie  Europe  \\\n",
       "Zone                                                                           \n",
       "Afghanistan                                   0       0      0     1       0   \n",
       "Afrique du Sud                                1       0      0     0       0   \n",
       "Albanie                                       0       0      0     0       1   \n",
       "Algérie                                       1       0      0     0       0   \n",
       "Allemagne                                     0       0      0     0       1   \n",
       "...                                         ...     ...    ...   ...     ...   \n",
       "Venezuela (République bolivarienne du)        0       0      1     0       0   \n",
       "Viet Nam                                      0       0      0     1       0   \n",
       "Yémen                                         0       0      0     1       0   \n",
       "Zambie                                        1       0      0     0       0   \n",
       "Zimbabwe                                      1       0      0     0       0   \n",
       "\n",
       "                                        Oceanie  \n",
       "Zone                                             \n",
       "Afghanistan                                   0  \n",
       "Afrique du Sud                                0  \n",
       "Albanie                                       0  \n",
       "Algérie                                       0  \n",
       "Allemagne                                     0  \n",
       "...                                         ...  \n",
       "Venezuela (République bolivarienne du)        0  \n",
       "Viet Nam                                      0  \n",
       "Yémen                                         0  \n",
       "Zambie                                        0  \n",
       "Zimbabwe                                      0  \n",
       "\n",
       "[169 rows x 6 columns]"
      ]
     },
     "execution_count": 26,
     "metadata": {},
     "output_type": "execute_result"
    }
   ],
   "source": [
    "pd.get_dummies(df_pays_region['Région'])"
   ]
  },
  {
   "cell_type": "code",
   "execution_count": 27,
   "id": "91e0eaf6",
   "metadata": {},
   "outputs": [],
   "source": [
    "# joindre la matrice \n",
    "df_pays_region = df_pays_region.merge(pd.get_dummies(df_pays_region['Région']),how='outer',left_on='Zone',right_on='Zone')\n",
    "# enlever la colonne région\n",
    "df_pays_region = df_pays_region.drop(columns=['Région'])"
   ]
  },
  {
   "cell_type": "code",
   "execution_count": 28,
   "id": "acd65dab",
   "metadata": {},
   "outputs": [],
   "source": [
    "# création d'un deuxième data frame identique ou l'on exclue l'encoding\n",
    "df_pays = df_pays_region[\n",
    "    [\"Croissance (en millier d'individus)\",'Production(en millier de tonnes)',\"Dispo intérieure(en millier de tonnes)\",\"Disponibilité alimentaire(en Kg/personne/an)\",\"Balance commeciale (en milier de tonnes)\",\"Population en 2017 (en milier d'individus)\",\"Pib par habitant\",\"% de croissance\",\"Production(en tonne par milier d'habitant)\",\"Balance commerciales(en tonne par milier d'habitant)\"]]"
   ]
  },
  {
   "cell_type": "code",
   "execution_count": null,
   "id": "abf37353",
   "metadata": {},
   "outputs": [],
   "source": []
  },
  {
   "cell_type": "markdown",
   "id": "6ac32099",
   "metadata": {},
   "source": [
    "### extraire les dataframes en fichier excel"
   ]
  },
  {
   "cell_type": "code",
   "execution_count": 29,
   "id": "a6076919",
   "metadata": {},
   "outputs": [],
   "source": [
    "df_pays_region.to_excel('df_pays_region.xlsx')\n",
    "df_pays.to_excel('df_pays.xlsx')"
   ]
  },
  {
   "cell_type": "code",
   "execution_count": 30,
   "id": "37c5c22a",
   "metadata": {},
   "outputs": [
    {
     "data": {
      "text/html": [
       "<div>\n",
       "<style scoped>\n",
       "    .dataframe tbody tr th:only-of-type {\n",
       "        vertical-align: middle;\n",
       "    }\n",
       "\n",
       "    .dataframe tbody tr th {\n",
       "        vertical-align: top;\n",
       "    }\n",
       "\n",
       "    .dataframe thead th {\n",
       "        text-align: right;\n",
       "    }\n",
       "</style>\n",
       "<table border=\"1\" class=\"dataframe\">\n",
       "  <thead>\n",
       "    <tr style=\"text-align: right;\">\n",
       "      <th></th>\n",
       "      <th>Croissance (en millier d'individus)</th>\n",
       "      <th>Production(en millier de tonnes)</th>\n",
       "      <th>Dispo intérieure(en millier de tonnes)</th>\n",
       "      <th>Disponibilité alimentaire(en Kg/personne/an)</th>\n",
       "      <th>Balance commeciale (en milier de tonnes)</th>\n",
       "      <th>Population en 2017 (en milier d'individus)</th>\n",
       "      <th>Pib par habitant</th>\n",
       "      <th>% de croissance</th>\n",
       "      <th>Production(en tonne par milier d'habitant)</th>\n",
       "      <th>Balance commerciales(en tonne par milier d'habitant)</th>\n",
       "    </tr>\n",
       "    <tr>\n",
       "      <th>Zone</th>\n",
       "      <th></th>\n",
       "      <th></th>\n",
       "      <th></th>\n",
       "      <th></th>\n",
       "      <th></th>\n",
       "      <th></th>\n",
       "      <th></th>\n",
       "      <th></th>\n",
       "      <th></th>\n",
       "      <th></th>\n",
       "    </tr>\n",
       "  </thead>\n",
       "  <tbody>\n",
       "    <tr>\n",
       "      <th>Inde</th>\n",
       "      <td>16518</td>\n",
       "      <td>3545.0</td>\n",
       "      <td>3661.0</td>\n",
       "      <td>2.22</td>\n",
       "      <td>0.0</td>\n",
       "      <td>1338676.785</td>\n",
       "      <td>1.961338</td>\n",
       "      <td>1.233905</td>\n",
       "      <td>2.648137</td>\n",
       "      <td>0.0</td>\n",
       "    </tr>\n",
       "  </tbody>\n",
       "</table>\n",
       "</div>"
      ],
      "text/plain": [
       "      Croissance (en millier d'individus)  Production(en millier de tonnes)  \\\n",
       "Zone                                                                          \n",
       "Inde                                16518                            3545.0   \n",
       "\n",
       "      Dispo intérieure(en millier de tonnes)  \\\n",
       "Zone                                           \n",
       "Inde                                  3661.0   \n",
       "\n",
       "      Disponibilité alimentaire(en Kg/personne/an)  \\\n",
       "Zone                                                 \n",
       "Inde                                          2.22   \n",
       "\n",
       "      Balance commeciale (en milier de tonnes)  \\\n",
       "Zone                                             \n",
       "Inde                                       0.0   \n",
       "\n",
       "      Population en 2017 (en milier d'individus)  Pib par habitant  \\\n",
       "Zone                                                                 \n",
       "Inde                                 1338676.785          1.961338   \n",
       "\n",
       "      % de croissance  Production(en tonne par milier d'habitant)  \\\n",
       "Zone                                                                \n",
       "Inde         1.233905                                    2.648137   \n",
       "\n",
       "      Balance commerciales(en tonne par milier d'habitant)  \n",
       "Zone                                                        \n",
       "Inde                                                0.0     "
      ]
     },
     "execution_count": 30,
     "metadata": {},
     "output_type": "execute_result"
    }
   ],
   "source": [
    "df_pays[df_pays[\"Croissance (en millier d'individus)\"]>15000]"
   ]
  },
  {
   "cell_type": "code",
   "execution_count": null,
   "id": "3e4000de",
   "metadata": {},
   "outputs": [],
   "source": []
  },
  {
   "cell_type": "code",
   "execution_count": 31,
   "id": "4e02a1c2",
   "metadata": {},
   "outputs": [
    {
     "data": {
      "text/html": [
       "<div>\n",
       "<style scoped>\n",
       "    .dataframe tbody tr th:only-of-type {\n",
       "        vertical-align: middle;\n",
       "    }\n",
       "\n",
       "    .dataframe tbody tr th {\n",
       "        vertical-align: top;\n",
       "    }\n",
       "\n",
       "    .dataframe thead th {\n",
       "        text-align: right;\n",
       "    }\n",
       "</style>\n",
       "<table border=\"1\" class=\"dataframe\">\n",
       "  <thead>\n",
       "    <tr style=\"text-align: right;\">\n",
       "      <th></th>\n",
       "      <th>Croissance (en millier d'individus)</th>\n",
       "      <th>Production(en millier de tonnes)</th>\n",
       "      <th>Dispo intérieure(en millier de tonnes)</th>\n",
       "      <th>Disponibilité alimentaire(en Kg/personne/an)</th>\n",
       "      <th>Balance commeciale (en milier de tonnes)</th>\n",
       "      <th>Population en 2017 (en milier d'individus)</th>\n",
       "      <th>Pib par habitant</th>\n",
       "      <th>% de croissance</th>\n",
       "      <th>Production(en tonne par milier d'habitant)</th>\n",
       "      <th>Balance commerciales(en tonne par milier d'habitant)</th>\n",
       "      <th>Afrique</th>\n",
       "      <th>AmNord</th>\n",
       "      <th>AmSud</th>\n",
       "      <th>Asie</th>\n",
       "      <th>Europe</th>\n",
       "      <th>Oceanie</th>\n",
       "    </tr>\n",
       "    <tr>\n",
       "      <th>Zone</th>\n",
       "      <th></th>\n",
       "      <th></th>\n",
       "      <th></th>\n",
       "      <th></th>\n",
       "      <th></th>\n",
       "      <th></th>\n",
       "      <th></th>\n",
       "      <th></th>\n",
       "      <th></th>\n",
       "      <th></th>\n",
       "      <th></th>\n",
       "      <th></th>\n",
       "      <th></th>\n",
       "      <th></th>\n",
       "      <th></th>\n",
       "      <th></th>\n",
       "    </tr>\n",
       "  </thead>\n",
       "  <tbody>\n",
       "    <tr>\n",
       "      <th>Chine, continentale</th>\n",
       "      <td>7622</td>\n",
       "      <td>18236.0</td>\n",
       "      <td>18161.0</td>\n",
       "      <td>12.33</td>\n",
       "      <td>452.0</td>\n",
       "      <td>1421021.791</td>\n",
       "      <td>8.663126</td>\n",
       "      <td>0.536375</td>\n",
       "      <td>12.833019</td>\n",
       "      <td>0.318081</td>\n",
       "      <td>0</td>\n",
       "      <td>0</td>\n",
       "      <td>0</td>\n",
       "      <td>1</td>\n",
       "      <td>0</td>\n",
       "      <td>0</td>\n",
       "    </tr>\n",
       "    <tr>\n",
       "      <th>Inde</th>\n",
       "      <td>16518</td>\n",
       "      <td>3545.0</td>\n",
       "      <td>3661.0</td>\n",
       "      <td>2.22</td>\n",
       "      <td>0.0</td>\n",
       "      <td>1338676.785</td>\n",
       "      <td>1.961338</td>\n",
       "      <td>1.233905</td>\n",
       "      <td>2.648137</td>\n",
       "      <td>0.000000</td>\n",
       "      <td>0</td>\n",
       "      <td>0</td>\n",
       "      <td>0</td>\n",
       "      <td>1</td>\n",
       "      <td>0</td>\n",
       "      <td>0</td>\n",
       "    </tr>\n",
       "  </tbody>\n",
       "</table>\n",
       "</div>"
      ],
      "text/plain": [
       "                     Croissance (en millier d'individus)  \\\n",
       "Zone                                                       \n",
       "Chine, continentale                                 7622   \n",
       "Inde                                               16518   \n",
       "\n",
       "                     Production(en millier de tonnes)  \\\n",
       "Zone                                                    \n",
       "Chine, continentale                           18236.0   \n",
       "Inde                                           3545.0   \n",
       "\n",
       "                     Dispo intérieure(en millier de tonnes)  \\\n",
       "Zone                                                          \n",
       "Chine, continentale                                 18161.0   \n",
       "Inde                                                 3661.0   \n",
       "\n",
       "                     Disponibilité alimentaire(en Kg/personne/an)  \\\n",
       "Zone                                                                \n",
       "Chine, continentale                                         12.33   \n",
       "Inde                                                         2.22   \n",
       "\n",
       "                     Balance commeciale (en milier de tonnes)  \\\n",
       "Zone                                                            \n",
       "Chine, continentale                                     452.0   \n",
       "Inde                                                      0.0   \n",
       "\n",
       "                     Population en 2017 (en milier d'individus)  \\\n",
       "Zone                                                              \n",
       "Chine, continentale                                 1421021.791   \n",
       "Inde                                                1338676.785   \n",
       "\n",
       "                     Pib par habitant  % de croissance  \\\n",
       "Zone                                                     \n",
       "Chine, continentale          8.663126         0.536375   \n",
       "Inde                         1.961338         1.233905   \n",
       "\n",
       "                     Production(en tonne par milier d'habitant)  \\\n",
       "Zone                                                              \n",
       "Chine, continentale                                   12.833019   \n",
       "Inde                                                   2.648137   \n",
       "\n",
       "                     Balance commerciales(en tonne par milier d'habitant)  \\\n",
       "Zone                                                                        \n",
       "Chine, continentale                                           0.318081      \n",
       "Inde                                                          0.000000      \n",
       "\n",
       "                     Afrique  AmNord  AmSud  Asie  Europe  Oceanie  \n",
       "Zone                                                                \n",
       "Chine, continentale        0       0      0     1       0        0  \n",
       "Inde                       0       0      0     1       0        0  "
      ]
     },
     "execution_count": 31,
     "metadata": {},
     "output_type": "execute_result"
    }
   ],
   "source": [
    "df_pays_region[df_pays_region[\"Croissance (en millier d'individus)\"]>5000]"
   ]
  },
  {
   "cell_type": "code",
   "execution_count": null,
   "id": "7c4a478a",
   "metadata": {},
   "outputs": [],
   "source": []
  }
 ],
 "metadata": {
  "kernelspec": {
   "display_name": "Python 3",
   "language": "python",
   "name": "python3"
  },
  "language_info": {
   "codemirror_mode": {
    "name": "ipython",
    "version": 3
   },
   "file_extension": ".py",
   "mimetype": "text/x-python",
   "name": "python",
   "nbconvert_exporter": "python",
   "pygments_lexer": "ipython3",
   "version": "3.8.8"
  }
 },
 "nbformat": 4,
 "nbformat_minor": 5
}
