{
 "cells": [
  {
   "cell_type": "markdown",
   "id": "0c5ab0e2",
   "metadata": {},
   "source": [
    "# P4 Réaliser une étude de santé publique avec Python"
   ]
  },
  {
   "cell_type": "markdown",
   "id": "6817418a",
   "metadata": {},
   "source": [
    "### importation des modules"
   ]
  },
  {
   "cell_type": "code",
   "execution_count": 1,
   "id": "0d0fbb5e",
   "metadata": {},
   "outputs": [],
   "source": [
    "import matplotlib.pyplot as plt \n",
    "import pandas as pd"
   ]
  },
  {
   "cell_type": "markdown",
   "id": "bf450019",
   "metadata": {},
   "source": [
    "### création des dataframes"
   ]
  },
  {
   "cell_type": "code",
   "execution_count": 2,
   "id": "176e76f1",
   "metadata": {},
   "outputs": [],
   "source": [
    "df_aide_alim = pd.read_excel('aide_alimentaire.xlsx')\n",
    "df_dispo_alim = pd.read_excel('dispo_alimentaire.xlsx')\n",
    "df_pop = pd.read_excel('population.xlsx')\n",
    "df_sous_nut = pd.read_excel('sous_nutrition.xlsx')"
   ]
  },
  {
   "cell_type": "markdown",
   "id": "c3164818",
   "metadata": {},
   "source": [
    "## Nétoyage des données"
   ]
  },
  {
   "cell_type": "code",
   "execution_count": 3,
   "id": "b1b63515",
   "metadata": {},
   "outputs": [],
   "source": [
    "# remplacement des valeurs nulles par 0\n",
    "df_sous_nut = df_sous_nut.fillna(0)\n",
    "df_dispo_alim = df_dispo_alim.fillna(0)"
   ]
  },
  {
   "cell_type": "code",
   "execution_count": 4,
   "id": "fd221fb0",
   "metadata": {},
   "outputs": [],
   "source": [
    "# mise à la même échelle des populations\n",
    "df_pop['Valeur'] = df_pop['Valeur']*1000\n",
    "df_sous_nut['Valeur'] = df_sous_nut[df_sous_nut['Valeur']!= \"<0.1\"]['Valeur'].astype(float)*1000000\n",
    "df_sous_nut = df_sous_nut.replace(to_replace=\"<0.1\",value=\"<100000\")"
   ]
  },
  {
   "cell_type": "markdown",
   "id": "05cf455c",
   "metadata": {},
   "source": [
    "## À propos de l'année 2017"
   ]
  },
  {
   "cell_type": "markdown",
   "id": "1de8868d",
   "metadata": {},
   "source": [
    "### calcul de la part de la population mondiale qui souffre de sous nutrition, en 2017"
   ]
  },
  {
   "cell_type": "code",
   "execution_count": 5,
   "id": "02f7c6ef",
   "metadata": {},
   "outputs": [
    {
     "name": "stdout",
     "output_type": "stream",
     "text": [
      "La part de la population mondiale qui souffre de sous nutrition, en 2017 est de :  7.1  %\n"
     ]
    }
   ],
   "source": [
    "# Création de deux dataframes qui contiennent les valeurs de 2017 pour la population  et la sous nutrition de chaque pays\n",
    "df_pop2017 = df_pop[df_pop['Année'] == 2017]\n",
    "pop_mondiale2017 = df_pop2017['Valeur'].sum()\n",
    "\n",
    "df_sous_nut2017 = df_sous_nut[df_sous_nut['Année']==\"2016-2018\"]\n",
    "sous_nut_mondiale2017 = df_sous_nut2017[df_sous_nut2017['Valeur']!= \"<100000\"]['Valeur'].sum()\n",
    "\n",
    "print(\"La part de la population mondiale qui souffre de sous nutrition, en 2017 est de : \",round(sous_nut_mondiale2017/pop_mondiale2017*100,2),\" %\")"
   ]
  },
  {
   "cell_type": "markdown",
   "id": "ea00c492",
   "metadata": {},
   "source": [
    "### calcul du nombre de personnes qui pouvaient être nourries en 2017"
   ]
  },
  {
   "cell_type": "code",
   "execution_count": 6,
   "id": "217a4ea0",
   "metadata": {},
   "outputs": [
    {
     "name": "stdout",
     "output_type": "stream",
     "text": [
      "En 2017, 9080080196 personnes auraient pu être nourries\n"
     ]
    }
   ],
   "source": [
    "# association des dataframes de population et de disponibilité alimentaire\n",
    "df_pop_dispo2017 = pd.merge(df_dispo_alim[['Zone','Disponibilité alimentaire (Kcal/personne/jour)','Origine']],df_pop2017, how='inner', left_on = 'Zone', right_on = 'Zone')\n",
    "\n",
    "# Création d'une colonne de disponibilité alimentaire en Kcal / jour\n",
    "df_pop_dispo2017['Dispo alimentaire (en Kcal/jour)']=df_pop_dispo2017['Disponibilité alimentaire (Kcal/personne/jour)']*df_pop_dispo2017['Valeur']\n",
    "print(\"En 2017,\",int(df_pop_dispo2017['Dispo alimentaire (en Kcal/jour)'].sum()/2325),\"personnes auraient pu être nourries\")"
   ]
  },
  {
   "cell_type": "markdown",
   "id": "b6301c7e",
   "metadata": {},
   "source": [
    "### calcul du nombre de personnes qui pourraient être nourries en 2017 avec des produits de nature végétale"
   ]
  },
  {
   "cell_type": "code",
   "execution_count": 7,
   "id": "6bda81be",
   "metadata": {},
   "outputs": [
    {
     "data": {
      "text/html": [
       "<div>\n",
       "<style scoped>\n",
       "    .dataframe tbody tr th:only-of-type {\n",
       "        vertical-align: middle;\n",
       "    }\n",
       "\n",
       "    .dataframe tbody tr th {\n",
       "        vertical-align: top;\n",
       "    }\n",
       "\n",
       "    .dataframe thead th {\n",
       "        text-align: right;\n",
       "    }\n",
       "</style>\n",
       "<table border=\"1\" class=\"dataframe\">\n",
       "  <thead>\n",
       "    <tr style=\"text-align: right;\">\n",
       "      <th></th>\n",
       "      <th>Dispo alimentaire (en Kcal/jour)</th>\n",
       "    </tr>\n",
       "    <tr>\n",
       "      <th>Origine</th>\n",
       "      <th></th>\n",
       "    </tr>\n",
       "  </thead>\n",
       "  <tbody>\n",
       "    <tr>\n",
       "      <th>animale</th>\n",
       "      <td>1.598763e+09</td>\n",
       "    </tr>\n",
       "    <tr>\n",
       "      <th>vegetale</th>\n",
       "      <td>7.481318e+09</td>\n",
       "    </tr>\n",
       "  </tbody>\n",
       "</table>\n",
       "</div>"
      ],
      "text/plain": [
       "          Dispo alimentaire (en Kcal/jour)\n",
       "Origine                                   \n",
       "animale                       1.598763e+09\n",
       "vegetale                      7.481318e+09"
      ]
     },
     "execution_count": 7,
     "metadata": {},
     "output_type": "execute_result"
    }
   ],
   "source": [
    "# Regroupement de la disponibilité alimentaire en fonction de l'origine\n",
    "# On divise le résultat par 2325 (moyenne entre le besoin en Kcal d'un homme et d'une femme par jour)\n",
    "df_pop_dispo2017[['Origine','Dispo alimentaire (en Kcal/jour)']].groupby('Origine').sum()/2325"
   ]
  },
  {
   "cell_type": "markdown",
   "id": "d48b7ce4",
   "metadata": {},
   "source": [
    "### la répartition de la disponibilité intérieure en fonction de l'usage, en 2017"
   ]
  },
  {
   "cell_type": "code",
   "execution_count": 8,
   "id": "a52f3992",
   "metadata": {},
   "outputs": [
    {
     "data": {
      "text/plain": [
       "Text(0.5, 1.0, 'La répartition de la disponibilité intérieure en 2017')"
      ]
     },
     "execution_count": 8,
     "metadata": {},
     "output_type": "execute_result"
    },
    {
     "data": {
      "image/png": "[encoded data removed]",
      "text/plain": [
       "<Figure size 504x504 with 1 Axes>"
      ]
     },
     "metadata": {},
     "output_type": "display_data"
    }
   ],
   "source": [
    "# Utilisation de matplotlib pour générer un diagramme circulaire qui donne la part de chacun des usages de la disponibilité intérieure\n",
    "df_dispo_alim[['Nourriture','Autres Utilisations','Pertes','Semences','Traitement','Aliments pour animaux']].sum().plot.pie(figsize=(7,7),autopct='%2.1f%%')\n",
    "plt.title(\"La répartition de la disponibilité intérieure en 2017\")"
   ]
  },
  {
   "cell_type": "markdown",
   "id": "dcc2068a",
   "metadata": {},
   "source": [
    "### la répartition de la disponibilité intérieure de céréales en fonction de l'usage"
   ]
  },
  {
   "cell_type": "code",
   "execution_count": 9,
   "id": "20fe84ea",
   "metadata": {},
   "outputs": [
    {
     "data": {
      "text/plain": [
       "Text(0.5, 1.0, 'La répartition de la disponibilité alimentaire de céréales')"
      ]
     },
     "execution_count": 9,
     "metadata": {},
     "output_type": "execute_result"
    },
    {
     "data": {
      "image/png": "[encoded data removed]",
      "text/plain": [
       "<Figure size 504x504 with 1 Axes>"
      ]
     },
     "metadata": {},
     "output_type": "display_data"
    }
   ],
   "source": [
    "# j'applique un masque pour avoir uniquement les céréales, je fais la sommes des valeurs des colonnes qui correspondent à la répartition de la disponibilité alimentaire\n",
    "df_dispo_alim[df_dispo_alim['Produit']==\"Céréales, Autres\"][['Nourriture','Autres Utilisations','Pertes','Semences','Traitement','Aliments pour animaux']].sum().plot.pie(figsize=(7,7),autopct='%2.1f%%')\n",
    "plt.title(\"La répartition de la disponibilité alimentaire de céréales\")"
   ]
  },
  {
   "cell_type": "markdown",
   "id": "fbabe067",
   "metadata": {},
   "source": [
    "### le cas du Manioc en Thaïlande"
   ]
  },
  {
   "cell_type": "code",
   "execution_count": 10,
   "id": "8845d261",
   "metadata": {},
   "outputs": [
    {
     "name": "stderr",
     "output_type": "stream",
     "text": [
      "<ipython-input-10-a87e652ab208>:2: UserWarning: Boolean Series key will be reindexed to match DataFrame index.\n",
      "  df_dispo_alim[df_dispo_alim['Produit']==\"Manioc\"][df_dispo_alim['Zone']=='Thaïlande'][['Exportations - Quantité','Importations - Quantité','Production']].plot.bar(figsize=(7,7))\n"
     ]
    },
    {
     "data": {
      "text/plain": [
       "Text(0.5, 1.0, 'La production et les exportations de manioc en Taïlande')"
      ]
     },
     "execution_count": 10,
     "metadata": {},
     "output_type": "execute_result"
    },
    {
     "data": {
      "image/png": "[encoded data removed]",
      "text/plain": [
       "<Figure size 504x504 with 1 Axes>"
      ]
     },
     "metadata": {
      "needs_background": "light"
     },
     "output_type": "display_data"
    }
   ],
   "source": [
    "# j'applique deux masques pour avoir la production de manioc en Thaïlande, puis je compare l'exportation avec la production\n",
    "df_dispo_alim[df_dispo_alim['Produit']==\"Manioc\"][df_dispo_alim['Zone']=='Thaïlande'][['Exportations - Quantité','Importations - Quantité','Production']].plot.bar(figsize=(7,7))\n",
    "plt.title(\"La production et les exportations de manioc en Taïlande\")"
   ]
  },
  {
   "cell_type": "code",
   "execution_count": 11,
   "id": "4cfdeba3",
   "metadata": {},
   "outputs": [
    {
     "data": {
      "text/html": [
       "<div>\n",
       "<style scoped>\n",
       "    .dataframe tbody tr th:only-of-type {\n",
       "        vertical-align: middle;\n",
       "    }\n",
       "\n",
       "    .dataframe tbody tr th {\n",
       "        vertical-align: top;\n",
       "    }\n",
       "\n",
       "    .dataframe thead th {\n",
       "        text-align: right;\n",
       "    }\n",
       "</style>\n",
       "<table border=\"1\" class=\"dataframe\">\n",
       "  <thead>\n",
       "    <tr style=\"text-align: right;\">\n",
       "      <th></th>\n",
       "      <th>Année</th>\n",
       "      <th>Valeur</th>\n",
       "    </tr>\n",
       "  </thead>\n",
       "  <tbody>\n",
       "    <tr>\n",
       "      <th>1110</th>\n",
       "      <td>2012-2014</td>\n",
       "      <td>6200000.0</td>\n",
       "    </tr>\n",
       "    <tr>\n",
       "      <th>1111</th>\n",
       "      <td>2013-2015</td>\n",
       "      <td>6000000.0</td>\n",
       "    </tr>\n",
       "    <tr>\n",
       "      <th>1112</th>\n",
       "      <td>2014-2016</td>\n",
       "      <td>5900000.0</td>\n",
       "    </tr>\n",
       "    <tr>\n",
       "      <th>1113</th>\n",
       "      <td>2015-2017</td>\n",
       "      <td>6000000.0</td>\n",
       "    </tr>\n",
       "    <tr>\n",
       "      <th>1114</th>\n",
       "      <td>2016-2018</td>\n",
       "      <td>6200000.0</td>\n",
       "    </tr>\n",
       "    <tr>\n",
       "      <th>1115</th>\n",
       "      <td>2017-2019</td>\n",
       "      <td>6500000.0</td>\n",
       "    </tr>\n",
       "  </tbody>\n",
       "</table>\n",
       "</div>"
      ],
      "text/plain": [
       "          Année     Valeur\n",
       "1110  2012-2014  6200000.0\n",
       "1111  2013-2015  6000000.0\n",
       "1112  2014-2016  5900000.0\n",
       "1113  2015-2017  6000000.0\n",
       "1114  2016-2018  6200000.0\n",
       "1115  2017-2019  6500000.0"
      ]
     },
     "execution_count": 11,
     "metadata": {},
     "output_type": "execute_result"
    }
   ],
   "source": [
    "# je souhaite connaitre le nombre de personnes qui souffrent de sous nutrition en Thaïlande\n",
    "df_sous_nut[df_sous_nut['Zone']==\"Thaïlande\"][['Année','Valeur']]"
   ]
  },
  {
   "cell_type": "markdown",
   "id": "4d897194",
   "metadata": {},
   "source": [
    "### les pays qui ont la plus grande part de population sous alimentés en 2017"
   ]
  },
  {
   "cell_type": "code",
   "execution_count": 12,
   "id": "729bd69c",
   "metadata": {},
   "outputs": [
    {
     "data": {
      "text/plain": [
       "(236, 3)"
      ]
     },
     "execution_count": 12,
     "metadata": {},
     "output_type": "execute_result"
    }
   ],
   "source": [
    "df_pop2017.shape"
   ]
  },
  {
   "cell_type": "code",
   "execution_count": 13,
   "id": "bbf5817c",
   "metadata": {},
   "outputs": [
    {
     "data": {
      "text/plain": [
       "(203, 3)"
      ]
     },
     "execution_count": 13,
     "metadata": {},
     "output_type": "execute_result"
    }
   ],
   "source": [
    "df_sous_nut2017.shape"
   ]
  },
  {
   "cell_type": "code",
   "execution_count": 14,
   "id": "e9b4517d",
   "metadata": {},
   "outputs": [
    {
     "data": {
      "text/html": [
       "<div>\n",
       "<style scoped>\n",
       "    .dataframe tbody tr th:only-of-type {\n",
       "        vertical-align: middle;\n",
       "    }\n",
       "\n",
       "    .dataframe tbody tr th {\n",
       "        vertical-align: top;\n",
       "    }\n",
       "\n",
       "    .dataframe thead th {\n",
       "        text-align: right;\n",
       "    }\n",
       "</style>\n",
       "<table border=\"1\" class=\"dataframe\">\n",
       "  <thead>\n",
       "    <tr style=\"text-align: right;\">\n",
       "      <th></th>\n",
       "      <th>Zone</th>\n",
       "      <th>Valeur_x</th>\n",
       "      <th>Valeur_y</th>\n",
       "      <th>Proportion</th>\n",
       "    </tr>\n",
       "  </thead>\n",
       "  <tbody>\n",
       "    <tr>\n",
       "      <th>78</th>\n",
       "      <td>Haïti</td>\n",
       "      <td>5300000.0</td>\n",
       "      <td>10982366.0</td>\n",
       "      <td>48.26</td>\n",
       "    </tr>\n",
       "    <tr>\n",
       "      <th>154</th>\n",
       "      <td>République populaire démocratique de Corée</td>\n",
       "      <td>12000000.0</td>\n",
       "      <td>25429825.0</td>\n",
       "      <td>47.19</td>\n",
       "    </tr>\n",
       "    <tr>\n",
       "      <th>105</th>\n",
       "      <td>Madagascar</td>\n",
       "      <td>10500000.0</td>\n",
       "      <td>25570512.0</td>\n",
       "      <td>41.06</td>\n",
       "    </tr>\n",
       "    <tr>\n",
       "      <th>100</th>\n",
       "      <td>Libéria</td>\n",
       "      <td>1800000.0</td>\n",
       "      <td>4702226.0</td>\n",
       "      <td>38.28</td>\n",
       "    </tr>\n",
       "    <tr>\n",
       "      <th>97</th>\n",
       "      <td>Lesotho</td>\n",
       "      <td>800000.0</td>\n",
       "      <td>2091534.0</td>\n",
       "      <td>38.25</td>\n",
       "    </tr>\n",
       "    <tr>\n",
       "      <th>179</th>\n",
       "      <td>Tchad</td>\n",
       "      <td>5700000.0</td>\n",
       "      <td>15016753.0</td>\n",
       "      <td>37.96</td>\n",
       "    </tr>\n",
       "    <tr>\n",
       "      <th>157</th>\n",
       "      <td>Rwanda</td>\n",
       "      <td>4200000.0</td>\n",
       "      <td>11980961.0</td>\n",
       "      <td>35.06</td>\n",
       "    </tr>\n",
       "    <tr>\n",
       "      <th>118</th>\n",
       "      <td>Mozambique</td>\n",
       "      <td>9400000.0</td>\n",
       "      <td>28649018.0</td>\n",
       "      <td>32.81</td>\n",
       "    </tr>\n",
       "    <tr>\n",
       "      <th>182</th>\n",
       "      <td>Timor-Leste</td>\n",
       "      <td>400000.0</td>\n",
       "      <td>1243258.0</td>\n",
       "      <td>32.17</td>\n",
       "    </tr>\n",
       "    <tr>\n",
       "      <th>0</th>\n",
       "      <td>Afghanistan</td>\n",
       "      <td>10500000.0</td>\n",
       "      <td>36296113.0</td>\n",
       "      <td>28.93</td>\n",
       "    </tr>\n",
       "  </tbody>\n",
       "</table>\n",
       "</div>"
      ],
      "text/plain": [
       "                                           Zone    Valeur_x    Valeur_y  \\\n",
       "78                                        Haïti   5300000.0  10982366.0   \n",
       "154  République populaire démocratique de Corée  12000000.0  25429825.0   \n",
       "105                                  Madagascar  10500000.0  25570512.0   \n",
       "100                                     Libéria   1800000.0   4702226.0   \n",
       "97                                      Lesotho    800000.0   2091534.0   \n",
       "179                                       Tchad   5700000.0  15016753.0   \n",
       "157                                      Rwanda   4200000.0  11980961.0   \n",
       "118                                  Mozambique   9400000.0  28649018.0   \n",
       "182                                 Timor-Leste    400000.0   1243258.0   \n",
       "0                                   Afghanistan  10500000.0  36296113.0   \n",
       "\n",
       "     Proportion  \n",
       "78        48.26  \n",
       "154       47.19  \n",
       "105       41.06  \n",
       "100       38.28  \n",
       "97        38.25  \n",
       "179       37.96  \n",
       "157       35.06  \n",
       "118       32.81  \n",
       "182       32.17  \n",
       "0         28.93  "
      ]
     },
     "execution_count": 14,
     "metadata": {},
     "output_type": "execute_result"
    }
   ],
   "source": [
    "# Association des dataframes population et sous nutrition 2017\n",
    "df_pop_sous_nut_2017 = pd.merge(df_sous_nut2017,df_pop2017, how='inner', left_on='Zone',right_on='Zone')\n",
    "df_pop_sous_nut_2017['Proportion'] = round(df_pop_sous_nut_2017[df_pop_sous_nut_2017['Valeur_x'] != \"<100000\"]['Valeur_x']/df_pop_sous_nut_2017['Valeur_y']*100,2)\n",
    "\n",
    "# Utilisation d'un masque pour enlever les valeurs <0.1\n",
    "df_pop_sous_nut_2017[['Zone','Valeur_x','Valeur_y','Proportion']].sort_values(by = 'Proportion', ascending = False).head(10)"
   ]
  },
  {
   "cell_type": "code",
   "execution_count": 15,
   "id": "664f8e75",
   "metadata": {},
   "outputs": [
    {
     "data": {
      "text/plain": [
       "(199, 6)"
      ]
     },
     "execution_count": 15,
     "metadata": {},
     "output_type": "execute_result"
    }
   ],
   "source": [
    "df_pop_sous_nut_2017.shape"
   ]
  },
  {
   "cell_type": "markdown",
   "id": "3d1daff1",
   "metadata": {},
   "source": [
    "### les pays qui ont le plus bénéficiés d'aide depuis 2013"
   ]
  },
  {
   "cell_type": "code",
   "execution_count": 16,
   "id": "325c19f5",
   "metadata": {},
   "outputs": [
    {
     "data": {
      "text/html": [
       "<div>\n",
       "<style scoped>\n",
       "    .dataframe tbody tr th:only-of-type {\n",
       "        vertical-align: middle;\n",
       "    }\n",
       "\n",
       "    .dataframe tbody tr th {\n",
       "        vertical-align: top;\n",
       "    }\n",
       "\n",
       "    .dataframe thead th {\n",
       "        text-align: right;\n",
       "    }\n",
       "</style>\n",
       "<table border=\"1\" class=\"dataframe\">\n",
       "  <thead>\n",
       "    <tr style=\"text-align: right;\">\n",
       "      <th></th>\n",
       "      <th>Valeur</th>\n",
       "    </tr>\n",
       "    <tr>\n",
       "      <th>Pays bénéficiaire</th>\n",
       "      <th></th>\n",
       "    </tr>\n",
       "  </thead>\n",
       "  <tbody>\n",
       "    <tr>\n",
       "      <th>République arabe syrienne</th>\n",
       "      <td>1858943</td>\n",
       "    </tr>\n",
       "    <tr>\n",
       "      <th>Éthiopie</th>\n",
       "      <td>1381294</td>\n",
       "    </tr>\n",
       "    <tr>\n",
       "      <th>Yémen</th>\n",
       "      <td>1206484</td>\n",
       "    </tr>\n",
       "    <tr>\n",
       "      <th>Soudan du Sud</th>\n",
       "      <td>695248</td>\n",
       "    </tr>\n",
       "    <tr>\n",
       "      <th>Soudan</th>\n",
       "      <td>669784</td>\n",
       "    </tr>\n",
       "    <tr>\n",
       "      <th>Kenya</th>\n",
       "      <td>552836</td>\n",
       "    </tr>\n",
       "    <tr>\n",
       "      <th>Bangladesh</th>\n",
       "      <td>348188</td>\n",
       "    </tr>\n",
       "    <tr>\n",
       "      <th>Somalie</th>\n",
       "      <td>292678</td>\n",
       "    </tr>\n",
       "    <tr>\n",
       "      <th>République démocratique du Congo</th>\n",
       "      <td>288502</td>\n",
       "    </tr>\n",
       "    <tr>\n",
       "      <th>Niger</th>\n",
       "      <td>276344</td>\n",
       "    </tr>\n",
       "  </tbody>\n",
       "</table>\n",
       "</div>"
      ],
      "text/plain": [
       "                                   Valeur\n",
       "Pays bénéficiaire                        \n",
       "République arabe syrienne         1858943\n",
       "Éthiopie                          1381294\n",
       "Yémen                             1206484\n",
       "Soudan du Sud                      695248\n",
       "Soudan                             669784\n",
       "Kenya                              552836\n",
       "Bangladesh                         348188\n",
       "Somalie                            292678\n",
       "République démocratique du Congo   288502\n",
       "Niger                              276344"
      ]
     },
     "execution_count": 16,
     "metadata": {},
     "output_type": "execute_result"
    }
   ],
   "source": [
    "# Calcul de la somme des aides perçu par chaque pays bénéficiaire depuis 2013 (nos données commencent en 2013)\n",
    "df_aide_alim.drop('Année', axis = 1).groupby('Pays bénéficiaire').sum().sort_values(by = 'Valeur', ascending = False).head(10)"
   ]
  },
  {
   "cell_type": "markdown",
   "id": "19873f75",
   "metadata": {},
   "source": [
    "### les pays qui ont le plus ou le moins de disponibilité alimentaire par habitant"
   ]
  },
  {
   "cell_type": "code",
   "execution_count": 17,
   "id": "8a016660",
   "metadata": {},
   "outputs": [
    {
     "data": {
      "text/html": [
       "<div>\n",
       "<style scoped>\n",
       "    .dataframe tbody tr th:only-of-type {\n",
       "        vertical-align: middle;\n",
       "    }\n",
       "\n",
       "    .dataframe tbody tr th {\n",
       "        vertical-align: top;\n",
       "    }\n",
       "\n",
       "    .dataframe thead th {\n",
       "        text-align: right;\n",
       "    }\n",
       "</style>\n",
       "<table border=\"1\" class=\"dataframe\">\n",
       "  <thead>\n",
       "    <tr style=\"text-align: right;\">\n",
       "      <th></th>\n",
       "      <th>Zone</th>\n",
       "      <th>Disponibilité alimentaire (Kcal/personne/jour)</th>\n",
       "      <th>Année</th>\n",
       "      <th>Valeur</th>\n",
       "    </tr>\n",
       "  </thead>\n",
       "  <tbody>\n",
       "    <tr>\n",
       "      <th>127</th>\n",
       "      <td>République centrafricaine</td>\n",
       "      <td>1879.0</td>\n",
       "      <td>2017</td>\n",
       "      <td>4596023.0</td>\n",
       "    </tr>\n",
       "    <tr>\n",
       "      <th>165</th>\n",
       "      <td>Zambie</td>\n",
       "      <td>1924.0</td>\n",
       "      <td>2017</td>\n",
       "      <td>16853599.0</td>\n",
       "    </tr>\n",
       "    <tr>\n",
       "      <th>90</th>\n",
       "      <td>Madagascar</td>\n",
       "      <td>2056.0</td>\n",
       "      <td>2017</td>\n",
       "      <td>25570512.0</td>\n",
       "    </tr>\n",
       "    <tr>\n",
       "      <th>0</th>\n",
       "      <td>Afghanistan</td>\n",
       "      <td>2087.0</td>\n",
       "      <td>2017</td>\n",
       "      <td>36296113.0</td>\n",
       "    </tr>\n",
       "    <tr>\n",
       "      <th>64</th>\n",
       "      <td>Haïti</td>\n",
       "      <td>2089.0</td>\n",
       "      <td>2017</td>\n",
       "      <td>10982366.0</td>\n",
       "    </tr>\n",
       "    <tr>\n",
       "      <th>132</th>\n",
       "      <td>République populaire démocratique de Corée</td>\n",
       "      <td>2093.0</td>\n",
       "      <td>2017</td>\n",
       "      <td>25429825.0</td>\n",
       "    </tr>\n",
       "    <tr>\n",
       "      <th>150</th>\n",
       "      <td>Tchad</td>\n",
       "      <td>2109.0</td>\n",
       "      <td>2017</td>\n",
       "      <td>15016753.0</td>\n",
       "    </tr>\n",
       "    <tr>\n",
       "      <th>166</th>\n",
       "      <td>Zimbabwe</td>\n",
       "      <td>2113.0</td>\n",
       "      <td>2017</td>\n",
       "      <td>14236595.0</td>\n",
       "    </tr>\n",
       "    <tr>\n",
       "      <th>113</th>\n",
       "      <td>Ouganda</td>\n",
       "      <td>2126.0</td>\n",
       "      <td>2017</td>\n",
       "      <td>41166588.0</td>\n",
       "    </tr>\n",
       "    <tr>\n",
       "      <th>153</th>\n",
       "      <td>Timor-Leste</td>\n",
       "      <td>2129.0</td>\n",
       "      <td>2017</td>\n",
       "      <td>1243258.0</td>\n",
       "    </tr>\n",
       "    <tr>\n",
       "      <th>171</th>\n",
       "      <td>Éthiopie</td>\n",
       "      <td>2129.0</td>\n",
       "      <td>2017</td>\n",
       "      <td>106399924.0</td>\n",
       "    </tr>\n",
       "    <tr>\n",
       "      <th>104</th>\n",
       "      <td>Namibie</td>\n",
       "      <td>2166.0</td>\n",
       "      <td>2017</td>\n",
       "      <td>2402633.0</td>\n",
       "    </tr>\n",
       "    <tr>\n",
       "      <th>149</th>\n",
       "      <td>Tadjikistan</td>\n",
       "      <td>2199.0</td>\n",
       "      <td>2017</td>\n",
       "      <td>8880268.0</td>\n",
       "    </tr>\n",
       "    <tr>\n",
       "      <th>133</th>\n",
       "      <td>République-Unie de Tanzanie</td>\n",
       "      <td>2204.0</td>\n",
       "      <td>2017</td>\n",
       "      <td>54660339.0</td>\n",
       "    </tr>\n",
       "    <tr>\n",
       "      <th>79</th>\n",
       "      <td>Kenya</td>\n",
       "      <td>2205.0</td>\n",
       "      <td>2017</td>\n",
       "      <td>50221142.0</td>\n",
       "    </tr>\n",
       "  </tbody>\n",
       "</table>\n",
       "</div>"
      ],
      "text/plain": [
       "                                           Zone  \\\n",
       "127                   République centrafricaine   \n",
       "165                                      Zambie   \n",
       "90                                   Madagascar   \n",
       "0                                   Afghanistan   \n",
       "64                                        Haïti   \n",
       "132  République populaire démocratique de Corée   \n",
       "150                                       Tchad   \n",
       "166                                    Zimbabwe   \n",
       "113                                     Ouganda   \n",
       "153                                 Timor-Leste   \n",
       "171                                    Éthiopie   \n",
       "104                                     Namibie   \n",
       "149                                 Tadjikistan   \n",
       "133                 République-Unie de Tanzanie   \n",
       "79                                        Kenya   \n",
       "\n",
       "     Disponibilité alimentaire (Kcal/personne/jour)  Année       Valeur  \n",
       "127                                          1879.0   2017    4596023.0  \n",
       "165                                          1924.0   2017   16853599.0  \n",
       "90                                           2056.0   2017   25570512.0  \n",
       "0                                            2087.0   2017   36296113.0  \n",
       "64                                           2089.0   2017   10982366.0  \n",
       "132                                          2093.0   2017   25429825.0  \n",
       "150                                          2109.0   2017   15016753.0  \n",
       "166                                          2113.0   2017   14236595.0  \n",
       "113                                          2126.0   2017   41166588.0  \n",
       "153                                          2129.0   2017    1243258.0  \n",
       "171                                          2129.0   2017  106399924.0  \n",
       "104                                          2166.0   2017    2402633.0  \n",
       "149                                          2199.0   2017    8880268.0  \n",
       "133                                          2204.0   2017   54660339.0  \n",
       "79                                           2205.0   2017   50221142.0  "
      ]
     },
     "execution_count": 17,
     "metadata": {},
     "output_type": "execute_result"
    }
   ],
   "source": [
    "# Création d'un dataframe qui associe la population et la disponibilité alimentaire de 2017\n",
    "df_pop_dispo2017 = pd.merge(df_dispo_alim[['Zone','Disponibilité alimentaire (Kcal/personne/jour)']].groupby('Zone').sum(),df_pop2017, how='inner', left_on = 'Zone', right_on = 'Zone')\n",
    "# Les pays qui ont le moins de disponibilité alimentaire par habitant\n",
    "df_pop_dispo2017.sort_values(by = 'Disponibilité alimentaire (Kcal/personne/jour)').head(15)"
   ]
  },
  {
   "cell_type": "code",
   "execution_count": 18,
   "id": "95aa8606",
   "metadata": {},
   "outputs": [
    {
     "data": {
      "text/html": [
       "<div>\n",
       "<style scoped>\n",
       "    .dataframe tbody tr th:only-of-type {\n",
       "        vertical-align: middle;\n",
       "    }\n",
       "\n",
       "    .dataframe tbody tr th {\n",
       "        vertical-align: top;\n",
       "    }\n",
       "\n",
       "    .dataframe thead th {\n",
       "        text-align: right;\n",
       "    }\n",
       "</style>\n",
       "<table border=\"1\" class=\"dataframe\">\n",
       "  <thead>\n",
       "    <tr style=\"text-align: right;\">\n",
       "      <th></th>\n",
       "      <th>Zone</th>\n",
       "      <th>Disponibilité alimentaire (Kcal/personne/jour)</th>\n",
       "      <th>Année</th>\n",
       "      <th>Valeur</th>\n",
       "    </tr>\n",
       "  </thead>\n",
       "  <tbody>\n",
       "    <tr>\n",
       "      <th>11</th>\n",
       "      <td>Autriche</td>\n",
       "      <td>3770.0</td>\n",
       "      <td>2017</td>\n",
       "      <td>8819901.0</td>\n",
       "    </tr>\n",
       "    <tr>\n",
       "      <th>16</th>\n",
       "      <td>Belgique</td>\n",
       "      <td>3737.0</td>\n",
       "      <td>2017</td>\n",
       "      <td>11419748.0</td>\n",
       "    </tr>\n",
       "    <tr>\n",
       "      <th>158</th>\n",
       "      <td>Turquie</td>\n",
       "      <td>3708.0</td>\n",
       "      <td>2017</td>\n",
       "      <td>81116450.0</td>\n",
       "    </tr>\n",
       "    <tr>\n",
       "      <th>170</th>\n",
       "      <td>États-Unis d'Amérique</td>\n",
       "      <td>3682.0</td>\n",
       "      <td>2017</td>\n",
       "      <td>325084756.0</td>\n",
       "    </tr>\n",
       "    <tr>\n",
       "      <th>73</th>\n",
       "      <td>IsraÃ«l</td>\n",
       "      <td>3610.0</td>\n",
       "      <td>2017</td>\n",
       "      <td>8243848.0</td>\n",
       "    </tr>\n",
       "    <tr>\n",
       "      <th>71</th>\n",
       "      <td>Irlande</td>\n",
       "      <td>3602.0</td>\n",
       "      <td>2017</td>\n",
       "      <td>4753279.0</td>\n",
       "    </tr>\n",
       "    <tr>\n",
       "      <th>74</th>\n",
       "      <td>Italie</td>\n",
       "      <td>3578.0</td>\n",
       "      <td>2017</td>\n",
       "      <td>60673701.0</td>\n",
       "    </tr>\n",
       "    <tr>\n",
       "      <th>88</th>\n",
       "      <td>Luxembourg</td>\n",
       "      <td>3540.0</td>\n",
       "      <td>2017</td>\n",
       "      <td>591910.0</td>\n",
       "    </tr>\n",
       "    <tr>\n",
       "      <th>167</th>\n",
       "      <td>Égypte</td>\n",
       "      <td>3518.0</td>\n",
       "      <td>2017</td>\n",
       "      <td>96442591.0</td>\n",
       "    </tr>\n",
       "    <tr>\n",
       "      <th>4</th>\n",
       "      <td>Allemagne</td>\n",
       "      <td>3503.0</td>\n",
       "      <td>2017</td>\n",
       "      <td>82658409.0</td>\n",
       "    </tr>\n",
       "    <tr>\n",
       "      <th>82</th>\n",
       "      <td>Koweït</td>\n",
       "      <td>3499.0</td>\n",
       "      <td>2017</td>\n",
       "      <td>4056099.0</td>\n",
       "    </tr>\n",
       "    <tr>\n",
       "      <th>31</th>\n",
       "      <td>Canada</td>\n",
       "      <td>3499.0</td>\n",
       "      <td>2017</td>\n",
       "      <td>36732095.0</td>\n",
       "    </tr>\n",
       "    <tr>\n",
       "      <th>101</th>\n",
       "      <td>Monténégro</td>\n",
       "      <td>3490.0</td>\n",
       "      <td>2017</td>\n",
       "      <td>627563.0</td>\n",
       "    </tr>\n",
       "    <tr>\n",
       "      <th>108</th>\n",
       "      <td>Norvège</td>\n",
       "      <td>3483.0</td>\n",
       "      <td>2017</td>\n",
       "      <td>5296326.0</td>\n",
       "    </tr>\n",
       "    <tr>\n",
       "      <th>52</th>\n",
       "      <td>France</td>\n",
       "      <td>3482.0</td>\n",
       "      <td>2017</td>\n",
       "      <td>64842509.0</td>\n",
       "    </tr>\n",
       "  </tbody>\n",
       "</table>\n",
       "</div>"
      ],
      "text/plain": [
       "                      Zone  Disponibilité alimentaire (Kcal/personne/jour)  \\\n",
       "11                Autriche                                          3770.0   \n",
       "16                Belgique                                          3737.0   \n",
       "158                Turquie                                          3708.0   \n",
       "170  États-Unis d'Amérique                                          3682.0   \n",
       "73                 IsraÃ«l                                          3610.0   \n",
       "71                 Irlande                                          3602.0   \n",
       "74                  Italie                                          3578.0   \n",
       "88              Luxembourg                                          3540.0   \n",
       "167                 Égypte                                          3518.0   \n",
       "4                Allemagne                                          3503.0   \n",
       "82                  Koweït                                          3499.0   \n",
       "31                  Canada                                          3499.0   \n",
       "101             Monténégro                                          3490.0   \n",
       "108                Norvège                                          3483.0   \n",
       "52                  France                                          3482.0   \n",
       "\n",
       "     Année       Valeur  \n",
       "11    2017    8819901.0  \n",
       "16    2017   11419748.0  \n",
       "158   2017   81116450.0  \n",
       "170   2017  325084756.0  \n",
       "73    2017    8243848.0  \n",
       "71    2017    4753279.0  \n",
       "74    2017   60673701.0  \n",
       "88    2017     591910.0  \n",
       "167   2017   96442591.0  \n",
       "4     2017   82658409.0  \n",
       "82    2017    4056099.0  \n",
       "31    2017   36732095.0  \n",
       "101   2017     627563.0  \n",
       "108   2017    5296326.0  \n",
       "52    2017   64842509.0  "
      ]
     },
     "execution_count": 18,
     "metadata": {},
     "output_type": "execute_result"
    }
   ],
   "source": [
    "# Les pays qui ont le plus de disponibilité alimentaire par habitant\n",
    "df_pop_dispo2017.sort_values(by = 'Disponibilité alimentaire (Kcal/personne/jour)', ascending = False).head(15)"
   ]
  },
  {
   "cell_type": "code",
   "execution_count": 19,
   "id": "c9b30ef4",
   "metadata": {},
   "outputs": [
    {
     "data": {
      "text/html": [
       "<div>\n",
       "<style scoped>\n",
       "    .dataframe tbody tr th:only-of-type {\n",
       "        vertical-align: middle;\n",
       "    }\n",
       "\n",
       "    .dataframe tbody tr th {\n",
       "        vertical-align: top;\n",
       "    }\n",
       "\n",
       "    .dataframe thead th {\n",
       "        text-align: right;\n",
       "    }\n",
       "</style>\n",
       "<table border=\"1\" class=\"dataframe\">\n",
       "  <thead>\n",
       "    <tr style=\"text-align: right;\">\n",
       "      <th></th>\n",
       "      <th>Zone</th>\n",
       "      <th>Disponibilité alimentaire (Kcal/personne/jour)</th>\n",
       "      <th>Valeur</th>\n",
       "      <th>Proportion</th>\n",
       "    </tr>\n",
       "  </thead>\n",
       "  <tbody>\n",
       "    <tr>\n",
       "      <th>0</th>\n",
       "      <td>Afghanistan</td>\n",
       "      <td>2087.0</td>\n",
       "      <td>36296113.0</td>\n",
       "      <td>28.93</td>\n",
       "    </tr>\n",
       "    <tr>\n",
       "      <th>1</th>\n",
       "      <td>Afrique du Sud</td>\n",
       "      <td>3020.0</td>\n",
       "      <td>57009756.0</td>\n",
       "      <td>5.44</td>\n",
       "    </tr>\n",
       "    <tr>\n",
       "      <th>2</th>\n",
       "      <td>Albanie</td>\n",
       "      <td>3188.0</td>\n",
       "      <td>2884169.0</td>\n",
       "      <td>3.47</td>\n",
       "    </tr>\n",
       "    <tr>\n",
       "      <th>3</th>\n",
       "      <td>Algérie</td>\n",
       "      <td>3293.0</td>\n",
       "      <td>41389189.0</td>\n",
       "      <td>3.14</td>\n",
       "    </tr>\n",
       "    <tr>\n",
       "      <th>4</th>\n",
       "      <td>Allemagne</td>\n",
       "      <td>3503.0</td>\n",
       "      <td>82658409.0</td>\n",
       "      <td>0.00</td>\n",
       "    </tr>\n",
       "    <tr>\n",
       "      <th>...</th>\n",
       "      <td>...</td>\n",
       "      <td>...</td>\n",
       "      <td>...</td>\n",
       "      <td>...</td>\n",
       "    </tr>\n",
       "    <tr>\n",
       "      <th>166</th>\n",
       "      <td>Égypte</td>\n",
       "      <td>3518.0</td>\n",
       "      <td>96442591.0</td>\n",
       "      <td>4.77</td>\n",
       "    </tr>\n",
       "    <tr>\n",
       "      <th>167</th>\n",
       "      <td>Émirats arabes unis</td>\n",
       "      <td>3275.0</td>\n",
       "      <td>9487203.0</td>\n",
       "      <td>3.16</td>\n",
       "    </tr>\n",
       "    <tr>\n",
       "      <th>168</th>\n",
       "      <td>Équateur</td>\n",
       "      <td>2346.0</td>\n",
       "      <td>16785361.0</td>\n",
       "      <td>8.94</td>\n",
       "    </tr>\n",
       "    <tr>\n",
       "      <th>169</th>\n",
       "      <td>États-Unis d'Amérique</td>\n",
       "      <td>3682.0</td>\n",
       "      <td>325084756.0</td>\n",
       "      <td>0.00</td>\n",
       "    </tr>\n",
       "    <tr>\n",
       "      <th>170</th>\n",
       "      <td>Éthiopie</td>\n",
       "      <td>2129.0</td>\n",
       "      <td>106399924.0</td>\n",
       "      <td>19.83</td>\n",
       "    </tr>\n",
       "  </tbody>\n",
       "</table>\n",
       "<p>171 rows × 4 columns</p>\n",
       "</div>"
      ],
      "text/plain": [
       "                      Zone  Disponibilité alimentaire (Kcal/personne/jour)  \\\n",
       "0              Afghanistan                                          2087.0   \n",
       "1           Afrique du Sud                                          3020.0   \n",
       "2                  Albanie                                          3188.0   \n",
       "3                  Algérie                                          3293.0   \n",
       "4                Allemagne                                          3503.0   \n",
       "..                     ...                                             ...   \n",
       "166                 Égypte                                          3518.0   \n",
       "167    Émirats arabes unis                                          3275.0   \n",
       "168               Équateur                                          2346.0   \n",
       "169  États-Unis d'Amérique                                          3682.0   \n",
       "170               Éthiopie                                          2129.0   \n",
       "\n",
       "          Valeur  Proportion  \n",
       "0     36296113.0       28.93  \n",
       "1     57009756.0        5.44  \n",
       "2      2884169.0        3.47  \n",
       "3     41389189.0        3.14  \n",
       "4     82658409.0        0.00  \n",
       "..           ...         ...  \n",
       "166   96442591.0        4.77  \n",
       "167    9487203.0        3.16  \n",
       "168   16785361.0        8.94  \n",
       "169  325084756.0        0.00  \n",
       "170  106399924.0       19.83  \n",
       "\n",
       "[171 rows x 4 columns]"
      ]
     },
     "execution_count": 19,
     "metadata": {},
     "output_type": "execute_result"
    }
   ],
   "source": [
    "# J'ai regroupé les principales valeurs calculés dans un nouveau dataframe\n",
    "df_pays_indicateurs2017 = pd.merge(df_pop_dispo2017[['Zone','Disponibilité alimentaire (Kcal/personne/jour)','Valeur']],df_pop_sous_nut_2017[['Zone','Proportion']], how='inner', left_on = 'Zone', right_on = 'Zone')\n",
    "df_pays_indicateurs2017"
   ]
  },
  {
   "cell_type": "code",
   "execution_count": null,
   "id": "ccbee648",
   "metadata": {},
   "outputs": [],
   "source": []
  }
 ],
 "metadata": {
  "kernelspec": {
   "display_name": "Python 3",
   "language": "python",
   "name": "python3"
  },
  "language_info": {
   "codemirror_mode": {
    "name": "ipython",
    "version": 3
   },
   "file_extension": ".py",
   "mimetype": "text/x-python",
   "name": "python",
   "nbconvert_exporter": "python",
   "pygments_lexer": "ipython3",
   "version": "3.8.8"
  }
 },
 "nbformat": 4,
 "nbformat_minor": 5
}
